{
 "cells": [
  {
   "cell_type": "code",
   "execution_count": 1,
   "metadata": {},
   "outputs": [],
   "source": [
    "import pandas as pd\n",
    "import numpy as np\n",
    "import matplotlib.pyplot as plt\n",
    "pd.options.display.max_rows = 999"
   ]
  },
  {
   "cell_type": "markdown",
   "metadata": {},
   "source": [
    "### Load dataset "
   ]
  },
  {
   "cell_type": "code",
   "execution_count": 2,
   "metadata": {},
   "outputs": [
    {
     "name": "stdout",
     "output_type": "stream",
     "text": [
      "Number of users 610\n",
      "Number of movies 9724\n"
     ]
    }
   ],
   "source": [
    "data = pd.read_csv('ratings.csv')\n",
    "data['userId'] = data['userId'].astype('str')\n",
    "data['movieId'] = data['movieId'].astype('str')\n",
    "users = data['userId'].unique() #list of all users\n",
    "movies = data['movieId'].unique() #list of all movies\n",
    "print(\"Number of users\", len(users))\n",
    "print(\"Number of movies\", len(movies))"
   ]
  },
  {
   "cell_type": "code",
   "execution_count": 3,
   "metadata": {},
   "outputs": [
    {
     "data": {
      "text/html": [
       "<div>\n",
       "<style scoped>\n",
       "    .dataframe tbody tr th:only-of-type {\n",
       "        vertical-align: middle;\n",
       "    }\n",
       "\n",
       "    .dataframe tbody tr th {\n",
       "        vertical-align: top;\n",
       "    }\n",
       "\n",
       "    .dataframe thead th {\n",
       "        text-align: right;\n",
       "    }\n",
       "</style>\n",
       "<table border=\"1\" class=\"dataframe\">\n",
       "  <thead>\n",
       "    <tr style=\"text-align: right;\">\n",
       "      <th></th>\n",
       "      <th>userId</th>\n",
       "      <th>movieId</th>\n",
       "      <th>rating</th>\n",
       "      <th>timestamp</th>\n",
       "    </tr>\n",
       "  </thead>\n",
       "  <tbody>\n",
       "    <tr>\n",
       "      <th>0</th>\n",
       "      <td>1</td>\n",
       "      <td>1</td>\n",
       "      <td>4.0</td>\n",
       "      <td>964982703</td>\n",
       "    </tr>\n",
       "    <tr>\n",
       "      <th>1</th>\n",
       "      <td>1</td>\n",
       "      <td>3</td>\n",
       "      <td>4.0</td>\n",
       "      <td>964981247</td>\n",
       "    </tr>\n",
       "    <tr>\n",
       "      <th>2</th>\n",
       "      <td>1</td>\n",
       "      <td>6</td>\n",
       "      <td>4.0</td>\n",
       "      <td>964982224</td>\n",
       "    </tr>\n",
       "    <tr>\n",
       "      <th>3</th>\n",
       "      <td>1</td>\n",
       "      <td>47</td>\n",
       "      <td>5.0</td>\n",
       "      <td>964983815</td>\n",
       "    </tr>\n",
       "    <tr>\n",
       "      <th>4</th>\n",
       "      <td>1</td>\n",
       "      <td>50</td>\n",
       "      <td>5.0</td>\n",
       "      <td>964982931</td>\n",
       "    </tr>\n",
       "  </tbody>\n",
       "</table>\n",
       "</div>"
      ],
      "text/plain": [
       "  userId movieId  rating  timestamp\n",
       "0      1       1     4.0  964982703\n",
       "1      1       3     4.0  964981247\n",
       "2      1       6     4.0  964982224\n",
       "3      1      47     5.0  964983815\n",
       "4      1      50     5.0  964982931"
      ]
     },
     "execution_count": 3,
     "metadata": {},
     "output_type": "execute_result"
    }
   ],
   "source": [
    "data.head()"
   ]
  },
  {
   "cell_type": "markdown",
   "metadata": {},
   "source": [
    "### Train & Test split "
   ]
  },
  {
   "cell_type": "markdown",
   "metadata": {},
   "source": [
    "Оставляем в тесте 20% прос"
   ]
  },
  {
   "cell_type": "code",
   "execution_count": 4,
   "metadata": {},
   "outputs": [],
   "source": [
    "test = pd.DataFrame(columns=data.columns)\n",
    "train = pd.DataFrame(columns=data.columns)"
   ]
  },
  {
   "cell_type": "code",
   "execution_count": 5,
   "metadata": {},
   "outputs": [],
   "source": [
    "test_ratio = 0.2"
   ]
  },
  {
   "cell_type": "code",
   "execution_count": 6,
   "metadata": {},
   "outputs": [],
   "source": [
    "for u in users:\n",
    "    temp = data[data['userId'] == u]\n",
    "    n = len(temp)\n",
    "    test_size = int(test_ratio*n)\n",
    "    \n",
    "    dummy_test = temp[n-1-test_size :]\n",
    "    dummy_train = temp[: n-2-test_size]\n",
    "    test = pd.concat([test, dummy_test])\n",
    "    train = pd.concat([train, dummy_train])"
   ]
  },
  {
   "cell_type": "markdown",
   "metadata": {},
   "source": [
    "исключаем фильмы из теста, которых нет в трейне "
   ]
  },
  {
   "cell_type": "code",
   "execution_count": 7,
   "metadata": {},
   "outputs": [],
   "source": [
    "train_movies_list = list(train[\"movieId\"].unique())\n",
    "test = test[test.movieId.isin(train_movies_list)]"
   ]
  },
  {
   "cell_type": "code",
   "execution_count": 8,
   "metadata": {},
   "outputs": [
    {
     "data": {
      "text/plain": [
       "(79676, 4)"
      ]
     },
     "execution_count": 8,
     "metadata": {},
     "output_type": "execute_result"
    }
   ],
   "source": [
    "train.shape"
   ]
  },
  {
   "cell_type": "code",
   "execution_count": 9,
   "metadata": {},
   "outputs": [
    {
     "data": {
      "text/plain": [
       "(16894, 4)"
      ]
     },
     "execution_count": 9,
     "metadata": {},
     "output_type": "execute_result"
    }
   ],
   "source": [
    "test.shape"
   ]
  },
  {
   "cell_type": "markdown",
   "metadata": {},
   "source": [
    "### создание разреженной матрицы \n",
    "\n",
    "Создадим матрицу юзеры - фильмы для обучеия рекомендательной системы"
   ]
  },
  {
   "cell_type": "code",
   "execution_count": 10,
   "metadata": {},
   "outputs": [],
   "source": [
    "train_utility_matrix = train.sort_values(\"movieId\").pivot(index=\"userId\", columns=\"movieId\", values=\"rating\").reset_index()"
   ]
  },
  {
   "cell_type": "code",
   "execution_count": 11,
   "metadata": {},
   "outputs": [],
   "source": [
    "film_id_list_sort = list(train_utility_matrix.columns)\n",
    "film_id_list_sort.remove(\"userId\")\n",
    "film_id_list_sort = [int(i) for i in film_id_list_sort]\n",
    "film_id_list_sort.sort()\n",
    "film_id_list_sort = [str(i) for i in film_id_list_sort]"
   ]
  },
  {
   "cell_type": "code",
   "execution_count": 12,
   "metadata": {},
   "outputs": [],
   "source": [
    "train_utility_matrix = train_utility_matrix[[\"userId\"] + film_id_list_sort]"
   ]
  },
  {
   "cell_type": "markdown",
   "metadata": {},
   "source": [
    "Для Null фильмов проставим в качестве рейтинка среднююоценку по пользователям, которые оценили этот фильм"
   ]
  },
  {
   "cell_type": "code",
   "execution_count": 13,
   "metadata": {},
   "outputs": [],
   "source": [
    "train_utility_matrix_non_zero = train_utility_matrix.fillna((train_utility_matrix[film_id_list_sort].mean()))"
   ]
  },
  {
   "cell_type": "code",
   "execution_count": 14,
   "metadata": {},
   "outputs": [
    {
     "data": {
      "text/html": [
       "<div>\n",
       "<style scoped>\n",
       "    .dataframe tbody tr th:only-of-type {\n",
       "        vertical-align: middle;\n",
       "    }\n",
       "\n",
       "    .dataframe tbody tr th {\n",
       "        vertical-align: top;\n",
       "    }\n",
       "\n",
       "    .dataframe thead th {\n",
       "        text-align: right;\n",
       "    }\n",
       "</style>\n",
       "<table border=\"1\" class=\"dataframe\">\n",
       "  <thead>\n",
       "    <tr style=\"text-align: right;\">\n",
       "      <th>movieId</th>\n",
       "      <th>userId</th>\n",
       "      <th>1</th>\n",
       "      <th>2</th>\n",
       "      <th>3</th>\n",
       "      <th>4</th>\n",
       "      <th>5</th>\n",
       "      <th>6</th>\n",
       "      <th>7</th>\n",
       "      <th>8</th>\n",
       "      <th>9</th>\n",
       "      <th>...</th>\n",
       "      <th>174053</th>\n",
       "      <th>174055</th>\n",
       "      <th>174479</th>\n",
       "      <th>175569</th>\n",
       "      <th>176371</th>\n",
       "      <th>177593</th>\n",
       "      <th>177765</th>\n",
       "      <th>183897</th>\n",
       "      <th>185029</th>\n",
       "      <th>187541</th>\n",
       "    </tr>\n",
       "  </thead>\n",
       "  <tbody>\n",
       "    <tr>\n",
       "      <th>0</th>\n",
       "      <td>1</td>\n",
       "      <td>4.00000</td>\n",
       "      <td>3.431818</td>\n",
       "      <td>4.000000</td>\n",
       "      <td>2.357143</td>\n",
       "      <td>3.071429</td>\n",
       "      <td>4.000000</td>\n",
       "      <td>3.185185</td>\n",
       "      <td>2.875</td>\n",
       "      <td>3.125</td>\n",
       "      <td>...</td>\n",
       "      <td>5.0</td>\n",
       "      <td>4.0</td>\n",
       "      <td>4.0</td>\n",
       "      <td>1.5</td>\n",
       "      <td>1.0</td>\n",
       "      <td>5.0</td>\n",
       "      <td>2.5</td>\n",
       "      <td>1.5</td>\n",
       "      <td>1.0</td>\n",
       "      <td>1.0</td>\n",
       "    </tr>\n",
       "    <tr>\n",
       "      <th>1</th>\n",
       "      <td>10</td>\n",
       "      <td>3.92093</td>\n",
       "      <td>3.431818</td>\n",
       "      <td>3.259615</td>\n",
       "      <td>2.357143</td>\n",
       "      <td>3.071429</td>\n",
       "      <td>3.946078</td>\n",
       "      <td>3.185185</td>\n",
       "      <td>2.875</td>\n",
       "      <td>3.125</td>\n",
       "      <td>...</td>\n",
       "      <td>5.0</td>\n",
       "      <td>4.0</td>\n",
       "      <td>4.0</td>\n",
       "      <td>1.5</td>\n",
       "      <td>1.0</td>\n",
       "      <td>5.0</td>\n",
       "      <td>2.5</td>\n",
       "      <td>1.5</td>\n",
       "      <td>1.0</td>\n",
       "      <td>1.0</td>\n",
       "    </tr>\n",
       "    <tr>\n",
       "      <th>2</th>\n",
       "      <td>100</td>\n",
       "      <td>3.92093</td>\n",
       "      <td>3.431818</td>\n",
       "      <td>3.500000</td>\n",
       "      <td>2.357143</td>\n",
       "      <td>3.071429</td>\n",
       "      <td>3.946078</td>\n",
       "      <td>3.185185</td>\n",
       "      <td>2.875</td>\n",
       "      <td>3.125</td>\n",
       "      <td>...</td>\n",
       "      <td>5.0</td>\n",
       "      <td>4.0</td>\n",
       "      <td>4.0</td>\n",
       "      <td>1.5</td>\n",
       "      <td>1.0</td>\n",
       "      <td>5.0</td>\n",
       "      <td>2.5</td>\n",
       "      <td>1.5</td>\n",
       "      <td>1.0</td>\n",
       "      <td>1.0</td>\n",
       "    </tr>\n",
       "    <tr>\n",
       "      <th>3</th>\n",
       "      <td>101</td>\n",
       "      <td>3.92093</td>\n",
       "      <td>3.431818</td>\n",
       "      <td>3.259615</td>\n",
       "      <td>2.357143</td>\n",
       "      <td>3.071429</td>\n",
       "      <td>3.946078</td>\n",
       "      <td>3.185185</td>\n",
       "      <td>2.875</td>\n",
       "      <td>3.125</td>\n",
       "      <td>...</td>\n",
       "      <td>5.0</td>\n",
       "      <td>4.0</td>\n",
       "      <td>4.0</td>\n",
       "      <td>1.5</td>\n",
       "      <td>1.0</td>\n",
       "      <td>5.0</td>\n",
       "      <td>2.5</td>\n",
       "      <td>1.5</td>\n",
       "      <td>1.0</td>\n",
       "      <td>1.0</td>\n",
       "    </tr>\n",
       "    <tr>\n",
       "      <th>4</th>\n",
       "      <td>102</td>\n",
       "      <td>3.92093</td>\n",
       "      <td>3.431818</td>\n",
       "      <td>5.000000</td>\n",
       "      <td>2.357143</td>\n",
       "      <td>3.071429</td>\n",
       "      <td>3.000000</td>\n",
       "      <td>3.185185</td>\n",
       "      <td>2.875</td>\n",
       "      <td>3.125</td>\n",
       "      <td>...</td>\n",
       "      <td>5.0</td>\n",
       "      <td>4.0</td>\n",
       "      <td>4.0</td>\n",
       "      <td>1.5</td>\n",
       "      <td>1.0</td>\n",
       "      <td>5.0</td>\n",
       "      <td>2.5</td>\n",
       "      <td>1.5</td>\n",
       "      <td>1.0</td>\n",
       "      <td>1.0</td>\n",
       "    </tr>\n",
       "  </tbody>\n",
       "</table>\n",
       "<p>5 rows × 7400 columns</p>\n",
       "</div>"
      ],
      "text/plain": [
       "movieId userId        1         2         3         4         5         6  \\\n",
       "0            1  4.00000  3.431818  4.000000  2.357143  3.071429  4.000000   \n",
       "1           10  3.92093  3.431818  3.259615  2.357143  3.071429  3.946078   \n",
       "2          100  3.92093  3.431818  3.500000  2.357143  3.071429  3.946078   \n",
       "3          101  3.92093  3.431818  3.259615  2.357143  3.071429  3.946078   \n",
       "4          102  3.92093  3.431818  5.000000  2.357143  3.071429  3.000000   \n",
       "\n",
       "movieId         7      8      9  ...  174053  174055  174479  175569  176371  \\\n",
       "0        3.185185  2.875  3.125  ...     5.0     4.0     4.0     1.5     1.0   \n",
       "1        3.185185  2.875  3.125  ...     5.0     4.0     4.0     1.5     1.0   \n",
       "2        3.185185  2.875  3.125  ...     5.0     4.0     4.0     1.5     1.0   \n",
       "3        3.185185  2.875  3.125  ...     5.0     4.0     4.0     1.5     1.0   \n",
       "4        3.185185  2.875  3.125  ...     5.0     4.0     4.0     1.5     1.0   \n",
       "\n",
       "movieId  177593  177765  183897  185029  187541  \n",
       "0           5.0     2.5     1.5     1.0     1.0  \n",
       "1           5.0     2.5     1.5     1.0     1.0  \n",
       "2           5.0     2.5     1.5     1.0     1.0  \n",
       "3           5.0     2.5     1.5     1.0     1.0  \n",
       "4           5.0     2.5     1.5     1.0     1.0  \n",
       "\n",
       "[5 rows x 7400 columns]"
      ]
     },
     "execution_count": 14,
     "metadata": {},
     "output_type": "execute_result"
    }
   ],
   "source": [
    "train_utility_matrix_non_zero.head()"
   ]
  },
  {
   "cell_type": "code",
   "execution_count": 15,
   "metadata": {},
   "outputs": [],
   "source": [
    "userId_list = list(train_utility_matrix_non_zero[\"userId\"])\n",
    "movieId_list = film_id_list_sort"
   ]
  },
  {
   "cell_type": "code",
   "execution_count": 16,
   "metadata": {},
   "outputs": [
    {
     "data": {
      "text/plain": [
       "7399"
      ]
     },
     "execution_count": 16,
     "metadata": {},
     "output_type": "execute_result"
    }
   ],
   "source": [
    "len(movieId_list)"
   ]
  },
  {
   "cell_type": "markdown",
   "metadata": {},
   "source": [
    "Создадим матрицу для обучения (svd-разложения)"
   ]
  },
  {
   "cell_type": "code",
   "execution_count": 17,
   "metadata": {},
   "outputs": [],
   "source": [
    "X = np.array(train_utility_matrix_non_zero[film_id_list_sort])"
   ]
  },
  {
   "cell_type": "code",
   "execution_count": 18,
   "metadata": {},
   "outputs": [
    {
     "data": {
      "text/plain": [
       "(610, 7399)"
      ]
     },
     "execution_count": 18,
     "metadata": {},
     "output_type": "execute_result"
    }
   ],
   "source": [
    "X.shape"
   ]
  },
  {
   "cell_type": "markdown",
   "metadata": {},
   "source": [
    "# SVD "
   ]
  },
  {
   "cell_type": "markdown",
   "metadata": {},
   "source": [
    "В качестве ранговой апроксимации возьмем параметр rank = 5"
   ]
  },
  {
   "cell_type": "markdown",
   "metadata": {},
   "source": [
    "## np.linalg.svd "
   ]
  },
  {
   "cell_type": "code",
   "execution_count": 20,
   "metadata": {},
   "outputs": [
    {
     "name": "stdout",
     "output_type": "stream",
     "text": [
      "Wall time: 11.2 s\n"
     ]
    }
   ],
   "source": [
    "%%time\n",
    "U, s, V = np.linalg.svd(X)"
   ]
  },
  {
   "cell_type": "code",
   "execution_count": 21,
   "metadata": {},
   "outputs": [],
   "source": [
    "s_diag = np.diag(np.array(list(s) + [0]*(V.shape[0] - s.shape[0])))[:610,:7399]"
   ]
  },
  {
   "cell_type": "code",
   "execution_count": 22,
   "metadata": {},
   "outputs": [],
   "source": [
    "def create_lov_rank_matrix(U, s, V):\n",
    "    s_diag = np.diag(np.array(list(s) + [0]*(V.shape[0] - s.shape[0])))[:610,:7399]\n",
    "    return U[:, :rank], s_diag[:rank, :rank], V[:rank, :]"
   ]
  },
  {
   "cell_type": "code",
   "execution_count": 23,
   "metadata": {},
   "outputs": [],
   "source": [
    "rank = 5\n",
    "U_rank, s_diag_rank, V_rank = create_lov_rank_matrix(U, s, V)"
   ]
  },
  {
   "cell_type": "markdown",
   "metadata": {},
   "source": [
    "###### Ошибка в точной апроксимации"
   ]
  },
  {
   "cell_type": "code",
   "execution_count": 24,
   "metadata": {},
   "outputs": [
    {
     "data": {
      "text/plain": [
       "1.565622015901574e-27"
      ]
     },
     "execution_count": 24,
     "metadata": {},
     "output_type": "execute_result"
    }
   ],
   "source": [
    "error_matrix = (U@s_diag@V - X)**2\n",
    "error_matrix.mean()"
   ]
  },
  {
   "cell_type": "markdown",
   "metadata": {},
   "source": [
    "###### Ошибка в малоранговой апроксимации"
   ]
  },
  {
   "cell_type": "code",
   "execution_count": 25,
   "metadata": {},
   "outputs": [
    {
     "data": {
      "text/plain": [
       "0.01215248931386438"
      ]
     },
     "execution_count": 25,
     "metadata": {},
     "output_type": "execute_result"
    }
   ],
   "source": [
    "error_matrix_rank = (U_rank@s_diag_rank@V_rank - X)**2\n",
    "error_matrix_rank.mean()"
   ]
  },
  {
   "cell_type": "markdown",
   "metadata": {},
   "source": [
    "###### ошибка на тестовой выборке "
   ]
  },
  {
   "cell_type": "markdown",
   "metadata": {},
   "source": [
    "Получим предикт для фильмов, которые попали в тест"
   ]
  },
  {
   "cell_type": "code",
   "execution_count": 26,
   "metadata": {},
   "outputs": [],
   "source": [
    "def predictions_by_svd_matrix(X_pred_np):\n",
    "    X_pred_pivot_pd = pd.concat([train_utility_matrix_non_zero[[\"userId\"]],\n",
    "                                 pd.DataFrame(X_pred_np, columns=movieId_list)],\n",
    "                                axis=1)\n",
    "    X_pred_pd = X_pred_pivot_pd.melt(id_vars=[\"userId\"], value_vars=movieId_list,\n",
    "                                     var_name='movieId', value_name='pred')\n",
    "    return X_pred_pd"
   ]
  },
  {
   "cell_type": "code",
   "execution_count": 27,
   "metadata": {},
   "outputs": [],
   "source": [
    "def create_rating_pred_matrix(X_pred_pd, true_score_pd):\n",
    "    return X_pred_pd.merge(true_score_pd, on=[\"userId\", \"movieId\"])"
   ]
  },
  {
   "cell_type": "code",
   "execution_count": 28,
   "metadata": {},
   "outputs": [],
   "source": [
    "def mse_score(pred_df):\n",
    "    delta_err = (np.array(pred_df[\"pred\"]) - np.array(pred_df[\"rating\"]))**2\n",
    "    return delta_err.mean()"
   ]
  },
  {
   "cell_type": "code",
   "execution_count": 29,
   "metadata": {},
   "outputs": [],
   "source": [
    "X_pred_np = U_rank@s_diag_rank@V_rank\n",
    "X_pred_pd = predictions_by_svd_matrix(X_pred_np)\n",
    "\n",
    "X_test_score_matrix = create_rating_pred_matrix(X_pred_pd, test)\n",
    "X_train_score_matrix = create_rating_pred_matrix(X_pred_pd, train)"
   ]
  },
  {
   "cell_type": "code",
   "execution_count": 30,
   "metadata": {},
   "outputs": [
    {
     "name": "stdout",
     "output_type": "stream",
     "text": [
      "Ошибка на train:  0.6580079389045526\n",
      "Ошибка на test:  1.0278064871936066\n"
     ]
    }
   ],
   "source": [
    "print(\"Ошибка на train: \", mse_score(X_train_score_matrix))\n",
    "print(\"Ошибка на test: \", mse_score(X_test_score_matrix))"
   ]
  },
  {
   "cell_type": "code",
   "execution_count": 31,
   "metadata": {},
   "outputs": [],
   "source": [
    "rank_list = [2, 4, 8, 16, 32, 64]"
   ]
  },
  {
   "cell_type": "code",
   "execution_count": 32,
   "metadata": {},
   "outputs": [],
   "source": [
    "train_err = []\n",
    "test_err = []\n",
    "\n",
    "for rank in rank_list:\n",
    "    U_rank, s_diag_rank, V_rank = create_lov_rank_matrix(U, s, V)\n",
    "    X_pred_np = U_rank@s_diag_rank@V_rank\n",
    "    X_pred_pd = predictions_by_svd_matrix(X_pred_np)\n",
    "    X_test_score_matrix = create_rating_pred_matrix(X_pred_pd, test)\n",
    "    X_train_score_matrix = create_rating_pred_matrix(X_pred_pd, train)\n",
    "    train_err.append(mse_score(X_train_score_matrix))\n",
    "    test_err.append(mse_score(X_test_score_matrix))"
   ]
  },
  {
   "cell_type": "code",
   "execution_count": 33,
   "metadata": {},
   "outputs": [
    {
     "data": {
      "image/png": "[encoded data removed]",
      "text/plain": [
       "<matplotlib.figure.Figure at 0x26a1aa74198>"
      ]
     },
     "metadata": {},
     "output_type": "display_data"
    }
   ],
   "source": [
    "plt.figure(figsize=(10, 5), dpi=80)\n",
    "plt.title(\"Зависимость mse от ранга\")\n",
    "plt.grid(True)\n",
    "plt.plot(rank_list, train_err, linewidth=3, label=\"train err\")\n",
    "plt.plot(rank_list, test_err, linewidth=3, label=\"test err\")\n",
    "\n",
    "plt.xlabel('rank',fontsize=15)\n",
    "plt.ylabel('mse', fontsize=15)\n",
    "# plt.yscale('log')\n",
    "plt.legend(loc='best')\n",
    "plt.show()"
   ]
  },
  {
   "cell_type": "markdown",
   "metadata": {},
   "source": [
    "# randomized svd "
   ]
  },
  {
   "cell_type": "code",
   "execution_count": 34,
   "metadata": {},
   "outputs": [],
   "source": [
    "from sklearn.utils.extmath import randomized_svd"
   ]
  },
  {
   "cell_type": "code",
   "execution_count": 35,
   "metadata": {},
   "outputs": [
    {
     "name": "stdout",
     "output_type": "stream",
     "text": [
      "Wall time: 4.21 s\n"
     ]
    }
   ],
   "source": [
    "%%time\n",
    "U_rand, Sigma_rand, VT_rand = randomized_svd(X, \n",
    "                                             n_components=610,\n",
    "                                             n_iter=7,\n",
    "                                             random_state=42)"
   ]
  },
  {
   "cell_type": "code",
   "execution_count": 36,
   "metadata": {},
   "outputs": [],
   "source": [
    "Sigma_rand_diag = np.diag(np.array(list(Sigma_rand) + [0]*(VT_rand.shape[0] - Sigma_rand.shape[0])))[:610,:7399]"
   ]
  },
  {
   "cell_type": "code",
   "execution_count": 37,
   "metadata": {},
   "outputs": [],
   "source": [
    "rank = 5\n",
    "U_rank, s_diag_rank, V_rank = create_lov_rank_matrix(U_rand, Sigma_rand, VT_rand)"
   ]
  },
  {
   "cell_type": "markdown",
   "metadata": {},
   "source": [
    "###### Ошибка в точной апроксимации "
   ]
  },
  {
   "cell_type": "code",
   "execution_count": 38,
   "metadata": {},
   "outputs": [
    {
     "data": {
      "text/plain": [
       "1.703311309254929e-25"
      ]
     },
     "execution_count": 38,
     "metadata": {},
     "output_type": "execute_result"
    }
   ],
   "source": [
    "error_matrix = (U_rand@Sigma_rand_diag@VT_rand - X)**2\n",
    "error_matrix.mean()"
   ]
  },
  {
   "cell_type": "markdown",
   "metadata": {},
   "source": [
    "###### Ошибка в малоранговой апроксимации "
   ]
  },
  {
   "cell_type": "code",
   "execution_count": 39,
   "metadata": {},
   "outputs": [
    {
     "data": {
      "text/plain": [
       "0.012152489313864392"
      ]
     },
     "execution_count": 39,
     "metadata": {},
     "output_type": "execute_result"
    }
   ],
   "source": [
    "error_matrix_rank = (U_rank@s_diag_rank@V_rank - X)**2\n",
    "error_matrix_rank.mean()"
   ]
  },
  {
   "cell_type": "markdown",
   "metadata": {},
   "source": [
    "###### зависимость ошибки на train/test от ранга "
   ]
  },
  {
   "cell_type": "code",
   "execution_count": 40,
   "metadata": {},
   "outputs": [],
   "source": [
    "rank_list = [2, 4, 8, 16, 32, 64]"
   ]
  },
  {
   "cell_type": "code",
   "execution_count": 41,
   "metadata": {},
   "outputs": [],
   "source": [
    "train_err = []\n",
    "test_err = []\n",
    "\n",
    "for rank in rank_list:\n",
    "    U_rank, s_diag_rank, V_rank = create_lov_rank_matrix(U_rand, Sigma_rand, VT_rand)\n",
    "    X_pred_np = U_rank@s_diag_rank@V_rank\n",
    "    X_pred_pd = predictions_by_svd_matrix(X_pred_np)\n",
    "    X_test_score_matrix = create_rating_pred_matrix(X_pred_pd, test)\n",
    "    X_train_score_matrix = create_rating_pred_matrix(X_pred_pd, train)\n",
    "    train_err.append(mse_score(X_train_score_matrix))\n",
    "    test_err.append(mse_score(X_test_score_matrix))"
   ]
  },
  {
   "cell_type": "code",
   "execution_count": 42,
   "metadata": {},
   "outputs": [
    {
     "data": {
      "image/png": "[encoded data removed]",
      "text/plain": [
       "<matplotlib.figure.Figure at 0x26a5fbed128>"
      ]
     },
     "metadata": {},
     "output_type": "display_data"
    }
   ],
   "source": [
    "plt.figure(figsize=(10, 5), dpi=80)\n",
    "plt.title(\"Зависимость mse от ранга Randomized SVD\")\n",
    "plt.grid(True)\n",
    "plt.plot(rank_list, train_err, linewidth=3, label=\"train err\")\n",
    "plt.plot(rank_list, test_err, linewidth=3, label=\"test err\")\n",
    "\n",
    "plt.xlabel('rank',fontsize=15)\n",
    "plt.ylabel('mse', fontsize=15)\n",
    "# plt.yscale('log')\n",
    "plt.legend(loc='best')\n",
    "plt.show()"
   ]
  },
  {
   "cell_type": "markdown",
   "metadata": {},
   "source": [
    "### custom randomized svd"
   ]
  },
  {
   "cell_type": "code",
   "execution_count": 43,
   "metadata": {},
   "outputs": [],
   "source": [
    "import rand_pca"
   ]
  },
  {
   "cell_type": "code",
   "execution_count": 44,
   "metadata": {},
   "outputs": [],
   "source": [
    "svd_custom_rand = rand_pca.RandPca()"
   ]
  },
  {
   "cell_type": "code",
   "execution_count": 46,
   "metadata": {},
   "outputs": [
    {
     "name": "stdout",
     "output_type": "stream",
     "text": [
      "Wall time: 7.2 s\n"
     ]
    }
   ],
   "source": [
    "%%time\n",
    "U, s, V = svd_custom_rand.rsvd(X, k=610, q=7, l=610)"
   ]
  },
  {
   "cell_type": "code",
   "execution_count": 47,
   "metadata": {},
   "outputs": [],
   "source": [
    "s_diag = np.diag(np.array(list(s) + [0]*(V.shape[0] - s.shape[0])))[:610,:7399]"
   ]
  },
  {
   "cell_type": "code",
   "execution_count": 48,
   "metadata": {},
   "outputs": [],
   "source": [
    "rank = 5\n",
    "U_rank, s_diag_rank, V_rank = create_lov_rank_matrix(U, s, V)"
   ]
  },
  {
   "cell_type": "markdown",
   "metadata": {},
   "source": [
    "###### Ошибка в точной апроксимации "
   ]
  },
  {
   "cell_type": "code",
   "execution_count": 49,
   "metadata": {},
   "outputs": [
    {
     "data": {
      "text/plain": [
       "0.00011954449077810414"
      ]
     },
     "execution_count": 49,
     "metadata": {},
     "output_type": "execute_result"
    }
   ],
   "source": [
    "error_matrix = (U@s_diag@V - X + 3.24)**2\n",
    "error_matrix.mean()"
   ]
  },
  {
   "cell_type": "markdown",
   "metadata": {},
   "source": [
    "###### Ошибка в малоранговой апроксимации "
   ]
  },
  {
   "cell_type": "code",
   "execution_count": 50,
   "metadata": {},
   "outputs": [
    {
     "data": {
      "text/plain": [
       "0.012268418941631859"
      ]
     },
     "execution_count": 50,
     "metadata": {},
     "output_type": "execute_result"
    }
   ],
   "source": [
    "error_matrix_rank = (U_rank@s_diag_rank@V_rank - X + 3.24)**2\n",
    "error_matrix_rank.mean()"
   ]
  },
  {
   "cell_type": "markdown",
   "metadata": {},
   "source": [
    "###### зависимость ошибки на train/test от ранга "
   ]
  },
  {
   "cell_type": "code",
   "execution_count": 51,
   "metadata": {},
   "outputs": [],
   "source": [
    "rank_list = [2, 4, 8, 16, 32, 64]"
   ]
  },
  {
   "cell_type": "code",
   "execution_count": 52,
   "metadata": {},
   "outputs": [],
   "source": [
    "train_err = []\n",
    "test_err = []\n",
    "\n",
    "for rank in rank_list:\n",
    "    U_rank, s_diag_rank, V_rank = create_lov_rank_matrix(U, s, V)\n",
    "    X_pred_np = U_rank@s_diag_rank@V_rank + 3.24\n",
    "    X_pred_pd = predictions_by_svd_matrix(X_pred_np)\n",
    "    X_test_score_matrix = create_rating_pred_matrix(X_pred_pd, test)\n",
    "    X_train_score_matrix = create_rating_pred_matrix(X_pred_pd, train)\n",
    "    train_err.append(mse_score(X_train_score_matrix))\n",
    "    test_err.append(mse_score(X_test_score_matrix))"
   ]
  },
  {
   "cell_type": "code",
   "execution_count": 53,
   "metadata": {},
   "outputs": [
    {
     "data": {
      "image/png": "[encoded data removed]",
      "text/plain": [
       "<matplotlib.figure.Figure at 0x26a5335c710>"
      ]
     },
     "metadata": {},
     "output_type": "display_data"
    }
   ],
   "source": [
    "plt.figure(figsize=(10, 5), dpi=80)\n",
    "plt.title(\"Зависимость mse от ранга Customer Randomized SVD\")\n",
    "plt.grid(True)\n",
    "plt.plot(rank_list, train_err, linewidth=3, label=\"train err\")\n",
    "plt.plot(rank_list, test_err, linewidth=3, label=\"test err\")\n",
    "\n",
    "plt.xlabel('rank',fontsize=15)\n",
    "plt.ylabel('mse', fontsize=15)\n",
    "# plt.yscale('log')\n",
    "plt.legend(loc='best')\n",
    "plt.show()"
   ]
  }
 ],
 "metadata": {
  "kernelspec": {
   "display_name": "Python 3",
   "language": "python",
   "name": "python3"
  },
  "language_info": {
   "codemirror_mode": {
    "name": "ipython",
    "version": 3
   },
   "file_extension": ".py",
   "mimetype": "text/x-python",
   "name": "python",
   "nbconvert_exporter": "python",
   "pygments_lexer": "ipython3",
   "version": "3.6.4"
  }
 },
 "nbformat": 4,
 "nbformat_minor": 2
}
